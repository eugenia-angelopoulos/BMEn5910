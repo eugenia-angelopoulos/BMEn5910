{
  "nbformat": 4,
  "nbformat_minor": 0,
  "metadata": {
    "colab": {
      "provenance": []
    },
    "kernelspec": {
      "name": "python3",
      "display_name": "Python 3"
    },
    "language_info": {
      "name": "python"
    }
  },
  "cells": [
    {
      "cell_type": "code",
      "source": [
        "# Write/Read Tabular Data (CSV file format)\n",
        "# CSV: plain-text with comma separation\n",
        "\n",
        "import pandas as pd\n",
        "\n",
        "# Tabular DataFrame\n",
        "df = pd.DataFrame(data)\n",
        "\n",
        "# Save the DataFrame to a CSV file\n",
        "df.to_csv('data.csv', index=False)\n",
        "\n",
        "# Load the DataFrame from the CSV file\n",
        "df = pd.read_csv('data.csv')"
      ],
      "metadata": {
        "id": "GnuZja7JXio-"
      },
      "execution_count": null,
      "outputs": []
    },
    {
      "cell_type": "code",
      "source": [
        "# Write/Read Tabular Data (Pickle file format)\n",
        "# Pickle: Python's approach to serializing data\n",
        "\n",
        "import pandas as pd\n",
        "import pickle\n",
        "\n",
        "# Tabular DataFrame\n",
        "df = pd.DataFrame(data)\n",
        "\n",
        "# Pickle the DataFrame\n",
        "with open('data.pickle', 'wb') as f:\n",
        "    pickle.dump(df, f)\n",
        "\n",
        "# Unpickle the DataFrame\n",
        "with open('data.pickle', 'rb') as f:\n",
        "    df = pickle.load(f)"
      ],
      "metadata": {
        "id": "7jdBSDwbWixG"
      },
      "execution_count": null,
      "outputs": []
    },
    {
      "cell_type": "code",
      "source": [
        "# Write/Read Tabular Data (JSON file format)\n",
        "# JSON: Python's approach to serializing data\n",
        "\n",
        "import pandas as pd\n",
        "\n",
        "# Tabular DataFrame\n",
        "df = pd.DataFrame(data)\n",
        "\n",
        "# Save the DataFrame to a JSON file\n",
        "df.to_json('data.json', orient='records')\n",
        "\n",
        "# Load the DataFrame from a JSON file\n",
        "df = pd.read_json('data.json', orient='records')"
      ],
      "metadata": {
        "id": "yQ6Me4OM4usG"
      },
      "execution_count": null,
      "outputs": []
    },
    {
      "cell_type": "code",
      "source": [
        "# Write/Read Tabular Data (HDF5 file format)\n",
        "# HDF5: Designed for large data sets\n",
        "\n",
        "import pandas as pd\n",
        "\n",
        "# Tabular DataFrame\n",
        "df = pd.DataFrame(data)\n",
        "\n",
        "# Save the DataFrame to a HDF5 file\n",
        "df.to_hdf('data.h5', key='df', mode='w')\n",
        "\n",
        "# Load the DataFrame from the HDF5 file\n",
        "df = pd.read_hdf('data.h5', key='df')"
      ],
      "metadata": {
        "id": "_H7RGWcObG3e"
      },
      "execution_count": null,
      "outputs": []
    },
    {
      "cell_type": "code",
      "source": [
        "# Write/Read Tabular Data (Feather file format)\n",
        "# Feather: Binary columnar serialization for storing data frames\n",
        "\n",
        "!pip install pyarrow\n",
        "import pyarrow as pa\n",
        "import pyarrow.parquet as pq\n",
        "\n",
        "# Tabular DataFrame\n",
        "df = pd.DataFrame(data)\n",
        "\n",
        "# Save the DataFrame to a feather file\n",
        "df.to_feather('data.feather')\n",
        "\n",
        "# Load the DataFrame from the feather file\n",
        "df = pd.read_feather('data.feather')"
      ],
      "metadata": {
        "id": "uwuaKVIdbgMy"
      },
      "execution_count": null,
      "outputs": []
    }
  ]
}